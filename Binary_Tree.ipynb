{
  "nbformat": 4,
  "nbformat_minor": 0,
  "metadata": {
    "colab": {
      "name": "Binary Tree",
      "provenance": [],
      "authorship_tag": "ABX9TyMxO9SK7nEdJSp3Cayy1h55"
    },
    "kernelspec": {
      "name": "python3",
      "display_name": "Python 3"
    },
    "language_info": {
      "name": "python"
    }
  },
  "cells": [
    {
      "cell_type": "code",
      "execution_count": 9,
      "metadata": {
        "colab": {
          "base_uri": "https://localhost:8080/"
        },
        "id": "Y764kXhZWCdX",
        "outputId": "93ac1f77-0924-455d-c522-767ed756c425"
      },
      "outputs": [
        {
          "output_type": "stream",
          "name": "stdout",
          "text": [
            "[3, 24, 42, 54]\n"
          ]
        }
      ],
      "source": [
        "class Node:\n",
        "  def __init__(self, data):\n",
        "    self.left = None\n",
        "    self.right = None\n",
        "    self.data = data\n",
        "  def insert(self, data):\n",
        "    if self.data:\n",
        "      if data < self.data:\n",
        "        if self.left is None:\n",
        "          self.left = Node(data)\n",
        "        else:\n",
        "          self.left.insert(data)\n",
        "      elif data > self.data:\n",
        "        if self.right is None:\n",
        "          self.right = Node(data)\n",
        "        else:\n",
        "          self.right.insert(data)\n",
        "    else:\n",
        "      self.data = data\n",
        "  def PrintTree(self):\n",
        "    if self.left:\n",
        "      self.left.PrintTree()\n",
        "    print(self.data),\n",
        "    if self.right:\n",
        "      self.right.PrintTree()\n",
        "\n",
        "  def inorderTraversal(self,root):\n",
        "    res = []\n",
        "    if root:\n",
        "      res = self.inorderTraversal(root.left)\n",
        "      res.append(root.data)\n",
        "      res += self.inorderTraversal(root.right)\n",
        "    return res\n",
        "\n",
        "root = Node(42)\n",
        "root.insert(54)\n",
        "root.insert(3)\n",
        "root.insert(24)\n",
        "print(root.inorderTraversal(root))"
      ]
    }
  ]
}