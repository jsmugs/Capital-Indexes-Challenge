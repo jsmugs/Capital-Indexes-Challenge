{
  "nbformat": 4,
  "nbformat_minor": 0,
  "metadata": {
    "colab": {
      "name": "Capital Indexes.ipynb",
      "provenance": [],
      "authorship_tag": "ABX9TyNiR4z7LcenKMyY+RecmOTb",
      "include_colab_link": true
    },
    "kernelspec": {
      "name": "python3",
      "display_name": "Python 3"
    },
    "language_info": {
      "name": "python"
    }
  },
  "cells": [
    {
      "cell_type": "markdown",
      "metadata": {
        "id": "view-in-github",
        "colab_type": "text"
      },
      "source": [
        "<a href=\"https://colab.research.google.com/github/jsmugs/Capital-Indexes-Challenge/blob/main/Capital_Indexes.ipynb\" target=\"_parent\"><img src=\"https://colab.research.google.com/assets/colab-badge.svg\" alt=\"Open In Colab\"/></a>"
      ]
    },
    {
      "cell_type": "code",
      "execution_count": 3,
      "metadata": {
        "colab": {
          "base_uri": "https://localhost:8080/"
        },
        "id": "BtC56AvwzKEP",
        "outputId": "be570c8a-0b0a-4b39-ebf0-09d38d03cfb1"
      },
      "outputs": [
        {
          "output_type": "stream",
          "name": "stdout",
          "text": [
            "[0, 2, 4]\n"
          ]
        }
      ],
      "source": [
        "def capital_indexes(word):\n",
        "    return [index for index, letter in enumerate(word) if letter.isupper()]\n",
        "\n",
        "print(capital_indexes(\"HeLlO\"))"
      ]
    }
  ]
}